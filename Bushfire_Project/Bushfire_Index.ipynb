{
 "cells": [
  {
   "cell_type": "markdown",
   "metadata": {},
   "source": [
    "## Bushfire Project\n",
    "The project below was the last oe developed during the Bootcamp done in General Assembly.\n",
    "\n",
    "The table of contents will lead to the specific notebooks that develop each individual part of the project.\n",
    "Running all the code in one notebook proved inefficient and different environments had to be created as well.\n",
    "\n",
    "1. <a href='#Problem_Statement'>Problem Statement</a>\n",
    "2. <a href='#Problem_Research'>Researching the Problem</a> \n",
    "    1. <a href='#Empirical_Knowledge'>Empirical Knowledge</a> \n",
    "    2. <a href='#Other_works'>Other works on the subject</a>\n",
    "    3. <a href='#Current_governmental'>Current governmental initiatives</a> \n",
    "    4. <a href='#Methodology'>Methodology</a>\n",
    "3. <a href='#Data_acquisition'>Data acquisition</a>\n",
    "    1. [Weather Data](./Bushfire_Weather.ipynb)\n",
    "    2. [Satelite Data](./Bushfire_Satelite.ipynb)\n",
    "    3. [Map Data](./Bushfire_Map.ipynb)\n",
    "    4. [Fire Scar](./Bushfire_Fire_Scar.ipynb)\n",
    "4. <a href='#Data_Wrangling'>Data Wrangling</a>\n",
    "    1. <a href='#Data_analysis'>Data Analysis</a>\n",
    "    2. [Preparing the prediction data](./Bushfire_Weather_Kringe.ipynb)\n",
    "    3. Understanding the data and developing a bottom-up methodology\n",
    "5. Modeling\n",
    "    1. Feature Engineering\n",
    "    2. Testing different models and feature importance\n",
    "6. Conclusions\n",
    "\n"
   ]
  },
  {
   "cell_type": "markdown",
   "metadata": {},
   "source": [
    "<a id='Problem_Statement'></a>"
   ]
  },
  {
   "cell_type": "markdown",
   "metadata": {},
   "source": [
    "### 1. Problem Statement\n",
    "Bushfires are an intrinsic part of Australia's natural environment. The amount of bushfires and their concentration at specific times of the year are a recurring problem that can reach critical proportions, as seen at the end of 2019. This project will look in to the probability of fires starting as well as testing the feature importance to corroborate empiracal analysis."
   ]
  },
  {
   "cell_type": "markdown",
   "metadata": {},
   "source": [
    "<a id='Problem_Research'></a>"
   ]
  },
  {
   "cell_type": "markdown",
   "metadata": {},
   "source": [
    "### 2. Researching the Problem"
   ]
  },
  {
   "cell_type": "markdown",
   "metadata": {},
   "source": [
    "<a id='Empirical_Knowledge'></a>"
   ]
  },
  {
   "cell_type": "markdown",
   "metadata": {},
   "source": [
    "#### A. Empirical Knowledge\n",
    "- Fires need 3 things to start: Heat, Fuel and Oxigen.\n",
    "- Bushfires have the 3 items above in more complexity: temperature, fuel mosture, fuel availability, wind speed, ignition source, type of vegetation etc.\n",
    "- The seasonality and geographical position influence the probability of a fire starting.\n",
    "\n"
   ]
  },
  {
   "cell_type": "markdown",
   "metadata": {},
   "source": [
    "<a id='Other_works'></a>"
   ]
  },
  {
   "cell_type": "markdown",
   "metadata": {},
   "source": [
    "#### B. Other works on the subject\n",
    "We were able to locate a work done by a data scientist in Portugal. This work is now publicly availabe and can be found on [here.](http://archive.ics.uci.edu/ml/datasets/Forest+Fires)\n",
    "\n",
    "This work is using weather information and the Forest Fire Weather index to predict the burned area of forest fires using a SVM. It is not exactly what we are loking for but is an interesting look at a similar problem.\n",
    "\n"
   ]
  },
  {
   "cell_type": "markdown",
   "metadata": {},
   "source": [
    "<a id='Current_governmental'></a>"
   ]
  },
  {
   "cell_type": "markdown",
   "metadata": {},
   "source": [
    "#### C. Current governmental initiatives\n",
    "CSIRO is by far the most advanced agency working on forecasting and preparing for bushfires in a holistic way. See more [here.](https://www.csiro.au/en/Research/Environment/Extreme-Events/Bushfire)\n",
    "\n"
   ]
  },
  {
   "cell_type": "markdown",
   "metadata": {},
   "source": [
    "<a id='Methodology'></a>"
   ]
  },
  {
   "cell_type": "markdown",
   "metadata": {},
   "source": [
    "#### D. Methodology\n",
    "The Idea is to try and create a process that **forecasts** fires given other correlated features.\n",
    "\n",
    "To be able to achieve this, we will have to subdivide the area of the state in to smaller areas and forecast the probability of a fire happening on that specific area. The concept is similar to Lewis Fry Richardson's division of the globe in \"Weather Prediction By Numerical Process\". \n",
    "\n",
    "To achieve this we will divide the state in 1 degree squares and kringe the features for each square using KNN and feature engineering where necessary.\n",
    "\n",
    "There are a few very important features and data that we will have to try and procure. Next, we will look at exactly that."
   ]
  },
  {
   "cell_type": "markdown",
   "metadata": {},
   "source": [
    "<a id='Data_acquisition'></a>"
   ]
  },
  {
   "cell_type": "markdown",
   "metadata": {},
   "source": [
    "### 3. Data acquisition\n",
    "Please go to each Ntebook following the links below:\n",
    "####    A. [Weather Data](./Bushfire_Weather.ipynb)\n",
    "####    B. [Satelite Data](./Bushfire_Satelite.ipynb)\n",
    "####    C. [Map Data](./Bushfire_Map.ipynb)\n",
    "####    D. [Fire Scar](./Bushfire_Fire_Scar.ipynb)\n"
   ]
  },
  {
   "cell_type": "markdown",
   "metadata": {},
   "source": [
    "**Possible problems going forward:**\n",
    "\n",
    "I could not find a good dataset with the vegetation of the whole of NSW, only small pieces.\n",
    "\n",
    "The firescar data is unreliable. Without knowing which are wildfires and wich are prescribed burs we are possibly giving the model unreliable information."
   ]
  },
  {
   "cell_type": "markdown",
   "metadata": {},
   "source": [
    "<a id='Data_Wrangling'></a>"
   ]
  },
  {
   "cell_type": "markdown",
   "metadata": {},
   "source": [
    "### 4. Data Wrangling"
   ]
  },
  {
   "cell_type": "markdown",
   "metadata": {},
   "source": [
    "<a id='Data_Analysis'></a>"
   ]
  },
  {
   "cell_type": "markdown",
   "metadata": {},
   "source": [
    "#### A. Data Analysis\n",
    "Now that we finished procuring data, let's look at what we have and determine what we want to do as far as feature engineering and data manipulation goes.\n",
    "\n",
    "To make this easyer we will make a little [streamlit app](http://13.238.142.157:8501/) looking at the satelite data.\n",
    "\n",
    "The code for the app follows:"
   ]
  },
  {
   "cell_type": "code",
   "execution_count": null,
   "metadata": {},
   "outputs": [],
   "source": [
    "#import statements\n",
    "import pandas as pd\n",
    "import altair as alt\n",
    "import streamlit as st\n",
    "import pydeck as pdk\n",
    "import numpy as np\n",
    "\n",
    "\n",
    "@st.cache\n",
    "# Function to load in data\n",
    "def get_data():\n",
    "    satelite_data = \"monthly_count.csv\"\n",
    "    df = pd.read_csv(satelite_data)\n",
    "    return df.set_index(\"months\")\n",
    "\n",
    "# Loading in data\n",
    "try:\n",
    "    df = get_data()\n",
    "except:\n",
    "    st.error(\n",
    "        \"\"\"\n",
    "        **could not load data**\n",
    "\n",
    "        Save data to same directory\n",
    "    \"\"\")\n",
    "data = df.T\n",
    "# Title and introduction\n",
    "'''\n",
    "# **Bushfires in NSW**\n",
    "'''\n",
    "\n",
    "st.image('NSW_2013.jpg', \n",
    "use_column_width=True)\n",
    "'''\n",
    "Image from 21/10/2013, Source [here](https://visibleearth.nasa.gov/images/82211/fires-in-new-south-wales-australia/82212w).\n",
    "\n",
    "\n",
    "How intense are the bushfires in Australia? How do they progress?\n",
    "Are we able to get a notion of what is going on?\n",
    "\n",
    "Well, Australia is a big place, so in this project we will be looking at NSW only.\n",
    "\n",
    "Let's check the number of events that happen over the years.\n",
    "\n",
    "'''\n",
    "\n",
    "# Selecting the specific year on a multiselect object\n",
    "year = st.multiselect(\n",
    "    \"Choose years to see on graph\", list(df.columns), ['2001', '2002']\n",
    ")\n",
    "if not year:\n",
    "    st.error(\"Please select at least one year.\")\n",
    "\n",
    "# Filtering selected years\n",
    "data = df.T.loc[year]\n",
    "# Preparing a chckbox to look at data \n",
    "if st.checkbox('Show raw data'):\n",
    "    st.subheader('number of events per month/year')\n",
    "    st.write(data)\n",
    "\n",
    "\n",
    "# preparing data for chart\n",
    "data = pd.melt(data.T.reset_index(), id_vars=[\"months\"]).rename(\n",
    "    columns={\"index\": \"month\", \"value\": \"Fires per month\",'variable':'years'})\n",
    "\n",
    "# Preparing chart\n",
    "chart = (\n",
    "    alt.Chart(data)\n",
    "    .mark_area(opacity=0.3)\n",
    "    .encode(\n",
    "        x=\"months:O\",\n",
    "        y=alt.Y(\"Fires per month:Q\", stack=None),\n",
    "        color=\"years:N\",\n",
    "        # order=\"order:O\"\n",
    "    )\n",
    ")\n",
    "# plotting chart using altair(for mrore info: https://altair-viz.github.io/user_guide/encoding.html)\n",
    "st.altair_chart(chart, use_container_width=True)\n",
    "\n",
    "# Map starts beow -----------------------------\n",
    "\n",
    "'''\n",
    "### Let's take a look at the fires on a map.\n",
    "\n",
    "The best way to look at this data is on a map. This way we can clearly understand \n",
    "the progression over time and the magnitude of the problem.\n",
    "\n",
    "The markings below show the density of hotspots in a 1km area. \n",
    "This means that the more events that happen in the same area the stronger the color \n",
    "and the higher the bars.\n",
    "\n",
    "We can see the information day-by-day over 2019. \n",
    "This is a great format to see how the fire fronts progressed on the most fire intense days\n",
    " of 2019.\n",
    "\n",
    "'''\n",
    "\n",
    "# preparing variables\n",
    "DATE_TIME = \"datetime\"\n",
    "DATA_URL = ('satelite_2019.csv')\n",
    "\n",
    "@st.cache(persist=True)\n",
    "# preparing data loadin function\n",
    "def load_data():\n",
    "    data = pd.read_csv(DATA_URL)\n",
    "    lowercase = lambda x: str(x).lower()\n",
    "    data.rename(lowercase, axis=\"columns\", inplace=True)\n",
    "    data[DATE_TIME] = pd.to_datetime(data[DATE_TIME])\n",
    "    return data\n",
    "\n",
    "# loading data in\n",
    "df = load_data()\n",
    "data = df\n",
    "# month slider\n",
    "month = st.slider(\" Select a month to look at\", 1, 12)\n",
    "# Day slider\n",
    "day = st.slider(\"Select a day to look at\", 1, 31)\n",
    "# map agle view\n",
    "angle = st.slider(\"Select map angle\", 1, 51,step=5)\n",
    "# Filtering useing sliders\n",
    "data = data[(data[DATE_TIME].dt.day == day) & (data[DATE_TIME].dt.month == month)]\n",
    "# creating subheader to show what is being displayed on the map\n",
    "st.subheader(\"Geo data on %i/%i/2019 \" %(day, month))\n",
    "# Getting the midpoint to zoom the map in\n",
    "midpoint = (np.average(df[\"latitude\"]), np.average(df[\"longitude\"]))\n",
    "\n",
    "st.write(pdk.Deck(\n",
    "    map_style=\"mapbox://styles/mapbox/light-v9\",\n",
    "    initial_view_state={\n",
    "        \"latitude\": midpoint[0],\n",
    "        \"longitude\": midpoint[1],\n",
    "        \"zoom\": 5, \n",
    "        \"pitch\": angle, \n",
    "    },\n",
    "    layers=[\n",
    "        pdk.Layer(\n",
    "            \"HexagonLayer\",\n",
    "            data=data,\n",
    "            get_position=[\"longitude\", \"latitude\"],\n",
    "            radius=1000, \n",
    "            elevation_scale=6, \n",
    "            elevation_range=[0, 3000], \n",
    "            pickable=True,\n",
    "            extruded=True,\n",
    "        )\n",
    "    ]\n",
    "))\n",
    "if st.checkbox('Want to know more about what we are looking at?'):\n",
    "    \n",
    "    st.write(\n",
    "        '''The data that this project uses was collected by Nasa using the MODIS instrument. \n",
    "More information [here](https://modis.gsfc.nasa.gov/data/).\n",
    "\n",
    "MODIS has several products, this project focuses on the active fire product. \n",
    "This product reads the brightness emitted from earth to space to determine active events.\n",
    "\n",
    "The map represents the density of fires in NSW. The highest represent a maximum of 6 fires in a\n",
    "2km radius and the lowest represent one.\n",
    "\n",
    "want to know more about this [project?](https://juliocent.github.io/portfolio/)\n",
    "\n",
    "''')\n",
    "\n"
   ]
  },
  {
   "cell_type": "markdown",
   "metadata": {},
   "source": [
    "<a id='Preparing_data'></a>"
   ]
  },
  {
   "cell_type": "markdown",
   "metadata": {},
   "source": [
    "#### B. Preparing the prediction data\n",
    "In order to create a model that works we need to kringe the weather data for each of the squares.\n",
    "\n",
    "THis process seems straightforward, but needs to be done carefully. A mistake in this step can change the results significantly.\n",
    "\n"
   ]
  }
 ],
 "metadata": {
  "kernelspec": {
   "display_name": "Python 3",
   "language": "python",
   "name": "python3"
  },
  "language_info": {
   "codemirror_mode": {
    "name": "ipython",
    "version": 3
   },
   "file_extension": ".py",
   "mimetype": "text/x-python",
   "name": "python",
   "nbconvert_exporter": "python",
   "pygments_lexer": "ipython3",
   "version": "3.8.2"
  }
 },
 "nbformat": 4,
 "nbformat_minor": 4
}
